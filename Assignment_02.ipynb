{
  "cells": [
    {
      "cell_type": "markdown",
      "metadata": {
        "id": "bb0O0xtk1v9t"
      },
      "source": [
        "## Task 01:\n",
        "\n",
        "Print Your Name with your Father name and Date of birth using suitable escape sequence charactor\n",
        "\n"
      ]
    },
    {
      "cell_type": "code",
      "execution_count": null,
      "metadata": {
        "id": "U7LLGIkO2Ixa"
      },
      "outputs": [],
      "source": [
        "# Write your code here\n",
        "print(\"Name: Maaz Habib Khan\\n F.Name:Muhammed Habib Ahmed Khan\\nDOB: 1/8/2005\")"
      ]
    },
    {
      "cell_type": "markdown",
      "metadata": {
        "id": "TU-xwiLV2NgB"
      },
      "source": [
        "# Task 02:\n",
        "\n",
        "Write your small bio using variables and print it using print function"
      ]
    },
    {
      "cell_type": "code",
      "execution_count": null,
      "metadata": {
        "id": "Dw8w3rwl2wDB"
      },
      "outputs": [],
      "source": [
        "# Write your code here\n",
        "a = 18\n",
        "b = \"PAF-KIET University\"\n",
        "print(f\"Age:{a}\\nInstitute:{b}\")"
      ]
    },
    {
      "cell_type": "markdown",
      "metadata": {
        "id": "F2lcZuDe2ztv"
      },
      "source": [
        "# Task 03:\n",
        "\n",
        "Write a program in which use all the operators we can use in Python"
      ]
    },
    {
      "cell_type": "code",
      "execution_count": 4,
      "metadata": {
        "id": "lEJhzsXh3e7K"
      },
      "outputs": [
        {
          "name": "stdout",
          "output_type": "stream",
          "text": [
            "10\n",
            "-2\n",
            "24\n",
            "0.6666666666666666\n",
            "4\n"
          ]
        }
      ],
      "source": [
        "# Write your code here\n",
        "a, b = 4, 6\n",
        "sum = a + b\n",
        "print(sum)\n",
        "diff = a - b\n",
        "print(diff)\n",
        "multi = a * b\n",
        "print(multi)\n",
        "div = a / b\n",
        "print(div)\n",
        "mod = a % b\n",
        "print(mod)"
      ]
    },
    {
      "cell_type": "markdown",
      "metadata": {
        "id": "i4N14TJU3l7n"
      },
      "source": [
        "# Task 04:\n",
        "\n",
        "\n",
        "1. Mention Marks of English , Islamiat and Maths out of 100 in 3 different variables\n",
        "\n",
        "2. Mention Variable of Total Marks and assign 300 to it\n",
        "\n",
        "3. Calculate Percentage"
      ]
    },
    {
      "cell_type": "code",
      "execution_count": 6,
      "metadata": {
        "id": "nxojzvRg5PP4"
      },
      "outputs": [
        {
          "name": "stdout",
          "output_type": "stream",
          "text": [
            "72.0\n"
          ]
        }
      ],
      "source": [
        "# Write your code here\n",
        "TMarks = 300\n",
        "\n",
        "MEng = 77\n",
        "MMaths = 65\n",
        "MIsl = 74\n",
        "\n",
        "Perc = ((MEng + MMaths + MIsl) / TMarks) * 100\n",
        "\n",
        "print(Perc)"
      ]
    }
  ],
  "metadata": {
    "colab": {
      "provenance": []
    },
    "kernelspec": {
      "display_name": "Python 3",
      "name": "python3"
    },
    "language_info": {
      "codemirror_mode": {
        "name": "ipython",
        "version": 3
      },
      "file_extension": ".py",
      "mimetype": "text/x-python",
      "name": "python",
      "nbconvert_exporter": "python",
      "pygments_lexer": "ipython3",
      "version": "3.12.2"
    }
  },
  "nbformat": 4,
  "nbformat_minor": 0
}
